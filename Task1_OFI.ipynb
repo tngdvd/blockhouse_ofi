{
 "cells": [
  {
   "cell_type": "code",
   "execution_count": 16,
   "id": "14bed8d4-d533-4b23-929f-1c18f3a115cf",
   "metadata": {},
   "outputs": [],
   "source": [
    "import pandas as pd\n",
    "import numpy as np\n",
    "from sklearn.decomposition import PCA\n",
    "from sklearn.preprocessing import StandardScaler"
   ]
  },
  {
   "cell_type": "code",
   "execution_count": 17,
   "id": "ababb09c-d2c3-4c81-8eb0-95cc031d4efd",
   "metadata": {},
   "outputs": [],
   "source": [
    "df = pd.read_csv(\"first_25000_rows.csv\")"
   ]
  },
  {
   "cell_type": "markdown",
   "id": "cadc8349-6ea6-4ac2-b0fa-5525510033a7",
   "metadata": {},
   "source": [
    "### Best-Level OFI"
   ]
  },
  {
   "cell_type": "code",
   "execution_count": 18,
   "id": "7e88849e-a7e9-4bfa-9844-16744156cada",
   "metadata": {},
   "outputs": [],
   "source": [
    "def compute_best_level_ofi(df):\n",
    "    df = df.copy()\n",
    "    df['prev_bid_px'] = df['bid_px_00'].shift(1)\n",
    "    df['prev_ask_px'] = df['ask_px_00'].shift(1)\n",
    "    df['prev_bid_sz'] = df['bid_sz_00'].shift(1)\n",
    "    df['prev_ask_sz'] = df['ask_sz_00'].shift(1)\n",
    "\n",
    "    def bid_flow(row):\n",
    "        if pd.isna(row['prev_bid_px']):\n",
    "            return 0\n",
    "        if row['bid_px_00'] > row['prev_bid_px']:\n",
    "            return row['bid_sz_00']\n",
    "        elif row['bid_px_00'] == row['prev_bid_px']:\n",
    "            return row['bid_sz_00'] - row['prev_bid_sz']\n",
    "        else:\n",
    "            return -row['prev_bid_sz']\n",
    "\n",
    "    def ask_flow(row):\n",
    "        if pd.isna(row['prev_ask_px']):\n",
    "            return 0\n",
    "        if row['ask_px_00'] > row['prev_ask_px']:\n",
    "            return -row['ask_sz_00']\n",
    "        elif row['ask_px_00'] == row['prev_ask_px']:\n",
    "            return row['ask_sz_00'] - row['prev_ask_sz']\n",
    "        else:\n",
    "            return row['prev_ask_sz']\n",
    "\n",
    "    df['best_level_ofi'] = df.apply(lambda r: bid_flow(r) - ask_flow(r), axis=1)\n",
    "    return df[['ts_event', 'symbol', 'best_level_ofi']]"
   ]
  },
  {
   "cell_type": "code",
   "execution_count": 19,
   "id": "97943f65-3820-4157-aeb4-18e3ee3f111b",
   "metadata": {},
   "outputs": [
    {
     "name": "stdout",
     "output_type": "stream",
     "text": [
      "                         ts_event symbol  best_level_ofi\n",
      "0  2024-10-21T11:54:29.221064336Z   AAPL             0.0\n",
      "1  2024-10-21T11:54:29.223769812Z   AAPL             2.0\n",
      "2  2024-10-21T11:54:29.225030400Z   AAPL             3.0\n",
      "3  2024-10-21T11:54:29.712434212Z   AAPL             0.0\n",
      "4  2024-10-21T11:54:29.764673165Z   AAPL             0.0\n"
     ]
    }
   ],
   "source": [
    "    best_ofi_df = compute_best_level_ofi(df)\n",
    "    print(best_ofi_df.head())"
   ]
  },
  {
   "cell_type": "markdown",
   "id": "017bf4fd-dac2-4895-8932-05943225393e",
   "metadata": {},
   "source": [
    "### Multi-Level OFI"
   ]
  },
  {
   "cell_type": "code",
   "execution_count": 20,
   "id": "4cc1d91b-5649-41d0-8349-79dd8144665d",
   "metadata": {},
   "outputs": [],
   "source": [
    "def compute_multi_level_ofi(df, levels=10):\n",
    "    df = df.copy()\n",
    "    ofi_cols = []\n",
    "    for level in range(levels):\n",
    "        bid_px_col = f'bid_px_{level:02d}'\n",
    "        ask_px_col = f'ask_px_{level:02d}'\n",
    "        bid_sz_col = f'bid_sz_{level:02d}'\n",
    "        ask_sz_col = f'ask_sz_{level:02d}'\n",
    "        prev_bid_px = df[bid_px_col].shift(1)\n",
    "        prev_ask_px = df[ask_px_col].shift(1)\n",
    "        prev_bid_sz = df[bid_sz_col].shift(1)\n",
    "        prev_ask_sz = df[ask_sz_col].shift(1)\n",
    "\n",
    "        bid_flow = np.where(df[bid_px_col] > prev_bid_px,\n",
    "                            df[bid_sz_col],\n",
    "                            np.where(df[bid_px_col] == prev_bid_px,\n",
    "                                     df[bid_sz_col] - prev_bid_sz,\n",
    "                                     -prev_bid_sz))\n",
    "\n",
    "        ask_flow = np.where(df[ask_px_col] > prev_ask_px,\n",
    "                            -df[ask_sz_col],\n",
    "                            np.where(df[ask_px_col] == prev_ask_px,\n",
    "                                     df[ask_sz_col] - prev_ask_sz,\n",
    "                                     prev_ask_sz))\n",
    "\n",
    "        ofi = bid_flow - ask_flow\n",
    "        col_name = f'ofi_{level}'\n",
    "        df[col_name] = ofi\n",
    "        ofi_cols.append(col_name)\n",
    "\n",
    "    return df[['ts_event', 'symbol'] + ofi_cols]"
   ]
  },
  {
   "cell_type": "code",
   "execution_count": 21,
   "id": "aead42fd-2f58-457a-9944-9665bdceb3e7",
   "metadata": {},
   "outputs": [
    {
     "name": "stdout",
     "output_type": "stream",
     "text": [
      "                         ts_event symbol  ofi_0  ofi_1  ofi_2  ofi_3  ofi_4  \\\n",
      "0  2024-10-21T11:54:29.221064336Z   AAPL    NaN    NaN    NaN    NaN    NaN   \n",
      "1  2024-10-21T11:54:29.223769812Z   AAPL    2.0    0.0    0.0    0.0    0.0   \n",
      "2  2024-10-21T11:54:29.225030400Z   AAPL    3.0    0.0    0.0    0.0    0.0   \n",
      "3  2024-10-21T11:54:29.712434212Z   AAPL    0.0    0.0  200.0    0.0    0.0   \n",
      "4  2024-10-21T11:54:29.764673165Z   AAPL    0.0    0.0 -200.0    0.0    0.0   \n",
      "\n",
      "   ofi_5  ofi_6  ofi_7  ofi_8  ofi_9  \n",
      "0    NaN    NaN    NaN    NaN    NaN  \n",
      "1    0.0    0.0    0.0    0.0    0.0  \n",
      "2    0.0    0.0    0.0    0.0    0.0  \n",
      "3    0.0    0.0    0.0    0.0    0.0  \n",
      "4    0.0    0.0    0.0    0.0    0.0  \n"
     ]
    }
   ],
   "source": [
    "    multi_ofi_df = compute_multi_level_ofi(df)\n",
    "    print(multi_ofi_df.head())"
   ]
  },
  {
   "cell_type": "markdown",
   "id": "c8c152f3-3ab7-422e-901d-6e746d8802e8",
   "metadata": {},
   "source": [
    "### Integrated OFI"
   ]
  },
  {
   "cell_type": "code",
   "execution_count": 22,
   "id": "d9576ce5-f34b-4b38-9d5c-6f43d047076b",
   "metadata": {},
   "outputs": [],
   "source": [
    "def compute_integrated_ofi(df, levels=10):\n",
    "    multi_df = compute_multi_level_ofi(df, levels)\n",
    "    ofi_cols = [f'ofi_{i}' for i in range(levels)]\n",
    "    X = multi_df[ofi_cols].fillna(0)\n",
    "    scaler = StandardScaler()\n",
    "    X_scaled = scaler.fit_transform(X)\n",
    "\n",
    "    pca = PCA(n_components=1)\n",
    "    integrated_ofi = pca.fit_transform(X_scaled).flatten()\n",
    "\n",
    "    multi_df['integrated_ofi'] = integrated_ofi\n",
    "    return multi_df[['ts_event', 'symbol', 'integrated_ofi']]"
   ]
  },
  {
   "cell_type": "code",
   "execution_count": 23,
   "id": "49c57b67-89ae-4dc8-a12e-67dee35aa72d",
   "metadata": {},
   "outputs": [
    {
     "name": "stdout",
     "output_type": "stream",
     "text": [
      "                         ts_event symbol  integrated_ofi\n",
      "0  2024-10-21T11:54:29.221064336Z   AAPL        0.004431\n",
      "1  2024-10-21T11:54:29.223769812Z   AAPL        0.009953\n",
      "2  2024-10-21T11:54:29.225030400Z   AAPL        0.012713\n",
      "3  2024-10-21T11:54:29.712434212Z   AAPL        0.215095\n",
      "4  2024-10-21T11:54:29.764673165Z   AAPL       -0.206233\n"
     ]
    }
   ],
   "source": [
    "    integrated_ofi_df = compute_integrated_ofi(df)\n",
    "    print(integrated_ofi_df.head())"
   ]
  },
  {
   "cell_type": "markdown",
   "id": "5a47fd1f-0f3e-4d2d-9370-167667981dbc",
   "metadata": {},
   "source": [
    "### Cross-Asset OFI"
   ]
  },
  {
   "cell_type": "code",
   "execution_count": 28,
   "id": "346e10e6-382b-4064-b2ec-164291d5512e",
   "metadata": {},
   "outputs": [],
   "source": [
    "def compute_cross_asset_ofi(df, ofi_col='best_level_ofi'):\n",
    "    df = df.copy()\n",
    "    df_grouped = df.groupby(['ts_event', 'symbol'])[ofi_col].mean().reset_index()\n",
    "\n",
    "    \n",
    "    pivot = df_grouped.pivot(index='ts_event', columns='symbol', values=ofi_col)\n",
    "    pivot = pivot.fillna(0)\n",
    "    return pivot.reset_index()"
   ]
  },
  {
   "cell_type": "code",
   "execution_count": 30,
   "id": "dc5e7c72-7945-45a9-9fee-481f65a574c3",
   "metadata": {},
   "outputs": [
    {
     "name": "stdout",
     "output_type": "stream",
     "text": [
      "symbol                        ts_event  AAPL\n",
      "0       2024-10-21T11:54:29.221064336Z   0.0\n",
      "1       2024-10-21T11:54:29.223769812Z   2.0\n",
      "2       2024-10-21T11:54:29.225030400Z   3.0\n",
      "3       2024-10-21T11:54:29.712434212Z   0.0\n",
      "4       2024-10-21T11:54:29.764673165Z   0.0\n"
     ]
    }
   ],
   "source": [
    "cross_asset_ofi_df = compute_cross_asset_ofi(best_ofi_df, ofi_col='best_level_ofi')\n",
    "print(cross_asset_ofi_df.head())"
   ]
  },
  {
   "cell_type": "code",
   "execution_count": null,
   "id": "4ef6db7b-de19-4383-9852-a991c88a2ec0",
   "metadata": {},
   "outputs": [],
   "source": []
  }
 ],
 "metadata": {
  "kernelspec": {
   "display_name": "Python 3 (ipykernel)",
   "language": "python",
   "name": "python3"
  },
  "language_info": {
   "codemirror_mode": {
    "name": "ipython",
    "version": 3
   },
   "file_extension": ".py",
   "mimetype": "text/x-python",
   "name": "python",
   "nbconvert_exporter": "python",
   "pygments_lexer": "ipython3",
   "version": "3.12.7"
  }
 },
 "nbformat": 4,
 "nbformat_minor": 5
}
